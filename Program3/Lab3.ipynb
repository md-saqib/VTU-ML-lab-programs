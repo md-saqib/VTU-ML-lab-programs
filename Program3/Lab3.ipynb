from matplotlib import pyplot as plt
from sklearn import datasets
from sklearn.tree import DecisionTreeClassifier 
from sklearn import tree

# Prepare the data data
iris = datasets.load_iris()

X = iris.data
y = iris.target

# Fit the classifier with default hyper-parameters
clf = DecisionTreeClassifier(criterion= 'entropy')
model = clf.fit(X, y)
import graphviz
# DOT data
dot_data = tree.export_graphviz(clf, out_file=None, 
                                feature_names=iris.feature_names,  
                                class_names=iris.target_names,
                                filled=True)
graph = graphviz.Source(dot_data, format="png") 
graph
