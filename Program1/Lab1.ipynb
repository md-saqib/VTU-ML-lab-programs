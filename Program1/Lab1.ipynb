import csv 
a = [] 
print("\nThe Given Training Data Set \n")
with open('ws.csv', 'r') as csvFile: 
    reader = csv.reader(csvFile) 
    for row in reader: 
        a.append(row) 
        print(row)
            
num_attributes=len(a[0])-1 
print("\n The initial value of hypothesis: ") 
hypothesis = ['0'] * num_attributes
print(hypothesis)

for j in range(0,num_attributes): 
    hypothesis[j] = a[0][j];

     
for i in range(0,len(a)): 
    if a[i][num_attributes]=='Yes': 
        for j in range(0,num_attributes): 
            if a[i][j]!=hypothesis[j]: 
                hypothesis[j]='?'
    print("For training example No",(i+1),"hypothesis is", hypothesis) 
    
print("\n The Maximally Specific Hypothesis for a given Training Examples :\n",hypothesis)
