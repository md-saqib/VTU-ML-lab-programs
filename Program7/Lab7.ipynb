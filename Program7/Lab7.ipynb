import pandas as pd
data= pd.read_csv("hearts.csv")
print(data)
from pgmpy.models import BayesianModel

names = "age,sex,cp,trestbps,chol,fbs,restecg,thalach,exang,oldpeak,slope,ca,thal,target"
names = names.split(",")

model = BayesianModel([("age","sex"),("sex","cp"),("cp","target")])
model.fit(data)
from pgmpy.inference import VariableElimination
infer = VariableElimination(model)
q= infer.query(variables=["target"],evidence={"age":22})
print(q)