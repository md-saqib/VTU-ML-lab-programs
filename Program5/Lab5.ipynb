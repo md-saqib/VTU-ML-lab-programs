import pandas as pd

from sklearn.model_selection import train_test_split
from sklearn.naive_bayes import GaussianNB
from sklearn.metrics import accuracy_score

DB = pd.read_csv('tennis1.csv')
X = DB.values[:,0:4]
Y = DB.values[:,4]
print(X)
print(Y)
X_train,X_test,Y_train,Y_test = train_test_split(X,Y,test_size=0.50,random_state=10)
clf = GaussianNB()
clf.fit(X_train,Y_train)
Y_pred = clf.predict(X_test)
print("the prediction:")
print(Y_pred )
accuracy_score(Y_test,Y_pred,normalize=True)